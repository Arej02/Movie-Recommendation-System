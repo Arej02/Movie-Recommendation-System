{
 "cells": [
  {
   "cell_type": "code",
   "execution_count": 1,
   "id": "ee85ef67-4368-4013-ad76-33936fbe5625",
   "metadata": {},
   "outputs": [],
   "source": [
    "import pandas as pd\n",
    "import numpy as np\n",
    "import matplotlib.pylab as plt\n",
    "import seaborn as sns"
   ]
  },
  {
   "cell_type": "code",
   "execution_count": 2,
   "id": "2de9acd9-bd81-4481-b3a5-106ac5165d35",
   "metadata": {},
   "outputs": [],
   "source": [
    "credits=pd.read_csv('../dataset/tmdb_5000_credits.csv')\n",
    "movies=pd.read_csv('../dataset/tmdb_5000_movies.csv')"
   ]
  },
  {
   "cell_type": "markdown",
   "id": "803cf97d-5d8c-4b9a-9720-9dd75704877b",
   "metadata": {},
   "source": [
    "# Data Cleaning: \n",
    "1. Credits Dataset:\n",
    "   - The **Cast and Crew feature** is a list that has a dictionary with key-value pair of the numerous characters and crew members respectively in the movie. Since it consists of a lot of characters we can only use the top 5 characters and only the director's name from the crew member since they are the one popularly recognized by audience. (Tideness)\n",
    "3. Movies Dataset:\n",
    "   - **Home Page**: 64% of the values are missing (Completeness)\n",
    "   - **Tagline**: 17% of the values are missing (Completeness)\n",
    "   - The **Genres, Keywords, Production_companines, Production_countries** is also inside a list with key-value pairs (Tideness)"
   ]
  },
  {
   "cell_type": "code",
   "execution_count": 3,
   "id": "0859a529-f4d2-4298-a218-d352b57a4406",
   "metadata": {},
   "outputs": [
    {
     "name": "stdout",
     "output_type": "stream",
     "text": [
      "The shape of the credits dataset is (4803, 4)\n",
      "The shape of the movies dataset is (4803, 20)\n"
     ]
    }
   ],
   "source": [
    "print(f'The shape of the credits dataset is {credits.shape}')\n",
    "print(f'The shape of the movies dataset is {movies.shape}')"
   ]
  },
  {
   "cell_type": "code",
   "execution_count": 4,
   "id": "5afc4a38-283a-4b5d-a768-ab9e67092580",
   "metadata": {},
   "outputs": [
    {
     "data": {
      "text/html": [
       "<div>\n",
       "<style scoped>\n",
       "    .dataframe tbody tr th:only-of-type {\n",
       "        vertical-align: middle;\n",
       "    }\n",
       "\n",
       "    .dataframe tbody tr th {\n",
       "        vertical-align: top;\n",
       "    }\n",
       "\n",
       "    .dataframe thead th {\n",
       "        text-align: right;\n",
       "    }\n",
       "</style>\n",
       "<table border=\"1\" class=\"dataframe\">\n",
       "  <thead>\n",
       "    <tr style=\"text-align: right;\">\n",
       "      <th></th>\n",
       "      <th>movie_id</th>\n",
       "      <th>title</th>\n",
       "      <th>cast</th>\n",
       "      <th>crew</th>\n",
       "    </tr>\n",
       "  </thead>\n",
       "  <tbody>\n",
       "    <tr>\n",
       "      <th>1979</th>\n",
       "      <td>20761</td>\n",
       "      <td>Play It to the Bone</td>\n",
       "      <td>[{\"cast_id\": 1, \"character\": \"Cesar Dominguez\"...</td>\n",
       "      <td>[{\"credit_id\": \"52fe43f8c3a368484e008853\", \"de...</td>\n",
       "    </tr>\n",
       "    <tr>\n",
       "      <th>4408</th>\n",
       "      <td>18869</td>\n",
       "      <td>Jimmy and Judy</td>\n",
       "      <td>[{\"cast_id\": 5, \"character\": \"Jimmy Wright\", \"...</td>\n",
       "      <td>[{\"credit_id\": \"52fe47a39251416c750a072d\", \"de...</td>\n",
       "    </tr>\n",
       "    <tr>\n",
       "      <th>3862</th>\n",
       "      <td>50839</td>\n",
       "      <td>Margin Call</td>\n",
       "      <td>[{\"cast_id\": 2, \"character\": \"Sam Rogers\", \"cr...</td>\n",
       "      <td>[{\"credit_id\": \"52fe47d8c3a36847f814b78f\", \"de...</td>\n",
       "    </tr>\n",
       "    <tr>\n",
       "      <th>1714</th>\n",
       "      <td>9778</td>\n",
       "      <td>Serendipity</td>\n",
       "      <td>[{\"cast_id\": 1, \"character\": \"Jonathan Trager\"...</td>\n",
       "      <td>[{\"credit_id\": \"52fe452bc3a36847f80c03df\", \"de...</td>\n",
       "    </tr>\n",
       "    <tr>\n",
       "      <th>885</th>\n",
       "      <td>9767</td>\n",
       "      <td>The Break-Up</td>\n",
       "      <td>[{\"cast_id\": 1, \"character\": \"Gary Grobowski\",...</td>\n",
       "      <td>[{\"credit_id\": \"52fe4529c3a36847f80bfc6b\", \"de...</td>\n",
       "    </tr>\n",
       "  </tbody>\n",
       "</table>\n",
       "</div>"
      ],
      "text/plain": [
       "      movie_id                title  \\\n",
       "1979     20761  Play It to the Bone   \n",
       "4408     18869       Jimmy and Judy   \n",
       "3862     50839          Margin Call   \n",
       "1714      9778          Serendipity   \n",
       "885       9767         The Break-Up   \n",
       "\n",
       "                                                   cast  \\\n",
       "1979  [{\"cast_id\": 1, \"character\": \"Cesar Dominguez\"...   \n",
       "4408  [{\"cast_id\": 5, \"character\": \"Jimmy Wright\", \"...   \n",
       "3862  [{\"cast_id\": 2, \"character\": \"Sam Rogers\", \"cr...   \n",
       "1714  [{\"cast_id\": 1, \"character\": \"Jonathan Trager\"...   \n",
       "885   [{\"cast_id\": 1, \"character\": \"Gary Grobowski\",...   \n",
       "\n",
       "                                                   crew  \n",
       "1979  [{\"credit_id\": \"52fe43f8c3a368484e008853\", \"de...  \n",
       "4408  [{\"credit_id\": \"52fe47a39251416c750a072d\", \"de...  \n",
       "3862  [{\"credit_id\": \"52fe47d8c3a36847f814b78f\", \"de...  \n",
       "1714  [{\"credit_id\": \"52fe452bc3a36847f80c03df\", \"de...  \n",
       "885   [{\"credit_id\": \"52fe4529c3a36847f80bfc6b\", \"de...  "
      ]
     },
     "execution_count": 4,
     "metadata": {},
     "output_type": "execute_result"
    }
   ],
   "source": [
    "credits.sample(5)"
   ]
  },
  {
   "cell_type": "code",
   "execution_count": 5,
   "id": "87563a20-ac34-4a6b-bd34-566bde255944",
   "metadata": {},
   "outputs": [
    {
     "data": {
      "text/html": [
       "<div>\n",
       "<style scoped>\n",
       "    .dataframe tbody tr th:only-of-type {\n",
       "        vertical-align: middle;\n",
       "    }\n",
       "\n",
       "    .dataframe tbody tr th {\n",
       "        vertical-align: top;\n",
       "    }\n",
       "\n",
       "    .dataframe thead th {\n",
       "        text-align: right;\n",
       "    }\n",
       "</style>\n",
       "<table border=\"1\" class=\"dataframe\">\n",
       "  <thead>\n",
       "    <tr style=\"text-align: right;\">\n",
       "      <th></th>\n",
       "      <th>budget</th>\n",
       "      <th>genres</th>\n",
       "      <th>homepage</th>\n",
       "      <th>id</th>\n",
       "      <th>keywords</th>\n",
       "      <th>original_language</th>\n",
       "      <th>original_title</th>\n",
       "      <th>overview</th>\n",
       "      <th>popularity</th>\n",
       "      <th>production_companies</th>\n",
       "      <th>production_countries</th>\n",
       "      <th>release_date</th>\n",
       "      <th>revenue</th>\n",
       "      <th>runtime</th>\n",
       "      <th>spoken_languages</th>\n",
       "      <th>status</th>\n",
       "      <th>tagline</th>\n",
       "      <th>title</th>\n",
       "      <th>vote_average</th>\n",
       "      <th>vote_count</th>\n",
       "    </tr>\n",
       "  </thead>\n",
       "  <tbody>\n",
       "    <tr>\n",
       "      <th>158</th>\n",
       "      <td>150000000</td>\n",
       "      <td>[{\"id\": 878, \"name\": \"Science Fiction\"}, {\"id\"...</td>\n",
       "      <td>NaN</td>\n",
       "      <td>13475</td>\n",
       "      <td>[{\"id\": 1612, \"name\": \"spacecraft\"}, {\"id\": 38...</td>\n",
       "      <td>en</td>\n",
       "      <td>Star Trek</td>\n",
       "      <td>The fate of the galaxy rests in the hands of b...</td>\n",
       "      <td>73.616808</td>\n",
       "      <td>[{\"name\": \"Paramount Pictures\", \"id\": 4}, {\"na...</td>\n",
       "      <td>[{\"iso_3166_1\": \"DE\", \"name\": \"Germany\"}, {\"is...</td>\n",
       "      <td>2009-05-06</td>\n",
       "      <td>385680446</td>\n",
       "      <td>127.0</td>\n",
       "      <td>[{\"iso_639_1\": \"en\", \"name\": \"English\"}]</td>\n",
       "      <td>Released</td>\n",
       "      <td>The future begins.</td>\n",
       "      <td>Star Trek</td>\n",
       "      <td>7.4</td>\n",
       "      <td>4518</td>\n",
       "    </tr>\n",
       "    <tr>\n",
       "      <th>2228</th>\n",
       "      <td>20000000</td>\n",
       "      <td>[{\"id\": 35, \"name\": \"Comedy\"}, {\"id\": 14, \"nam...</td>\n",
       "      <td>http://www.americancarol.com/</td>\n",
       "      <td>13948</td>\n",
       "      <td>[{\"id\": 949, \"name\": \"terrorist\"}, {\"id\": 9755...</td>\n",
       "      <td>en</td>\n",
       "      <td>An American Carol</td>\n",
       "      <td>In An American Carol a cynical, Anti-American ...</td>\n",
       "      <td>2.605374</td>\n",
       "      <td>[{\"name\": \"Mpower Pictures\", \"id\": 5294}]</td>\n",
       "      <td>[{\"iso_3166_1\": \"US\", \"name\": \"United States o...</td>\n",
       "      <td>2008-10-03</td>\n",
       "      <td>7000000</td>\n",
       "      <td>83.0</td>\n",
       "      <td>[{\"iso_639_1\": \"en\", \"name\": \"English\"}]</td>\n",
       "      <td>Released</td>\n",
       "      <td>Laugh like you're country depends on it.</td>\n",
       "      <td>An American Carol</td>\n",
       "      <td>4.1</td>\n",
       "      <td>20</td>\n",
       "    </tr>\n",
       "    <tr>\n",
       "      <th>4021</th>\n",
       "      <td>0</td>\n",
       "      <td>[{\"id\": 18, \"name\": \"Drama\"}]</td>\n",
       "      <td>NaN</td>\n",
       "      <td>21074</td>\n",
       "      <td>[{\"id\": 2692, \"name\": \"arranged marriage\"}, {\"...</td>\n",
       "      <td>en</td>\n",
       "      <td>Brick Lane</td>\n",
       "      <td>The grind of daily life as a Brick Lane Bangla...</td>\n",
       "      <td>0.262135</td>\n",
       "      <td>[{\"name\": \"Ingenious Film Partners\", \"id\": 289...</td>\n",
       "      <td>[{\"iso_3166_1\": \"GB\", \"name\": \"United Kingdom\"...</td>\n",
       "      <td>2007-11-16</td>\n",
       "      <td>0</td>\n",
       "      <td>102.0</td>\n",
       "      <td>[]</td>\n",
       "      <td>Released</td>\n",
       "      <td>NaN</td>\n",
       "      <td>Brick Lane</td>\n",
       "      <td>5.2</td>\n",
       "      <td>15</td>\n",
       "    </tr>\n",
       "  </tbody>\n",
       "</table>\n",
       "</div>"
      ],
      "text/plain": [
       "         budget                                             genres  \\\n",
       "158   150000000  [{\"id\": 878, \"name\": \"Science Fiction\"}, {\"id\"...   \n",
       "2228   20000000  [{\"id\": 35, \"name\": \"Comedy\"}, {\"id\": 14, \"nam...   \n",
       "4021          0                      [{\"id\": 18, \"name\": \"Drama\"}]   \n",
       "\n",
       "                           homepage     id  \\\n",
       "158                             NaN  13475   \n",
       "2228  http://www.americancarol.com/  13948   \n",
       "4021                            NaN  21074   \n",
       "\n",
       "                                               keywords original_language  \\\n",
       "158   [{\"id\": 1612, \"name\": \"spacecraft\"}, {\"id\": 38...                en   \n",
       "2228  [{\"id\": 949, \"name\": \"terrorist\"}, {\"id\": 9755...                en   \n",
       "4021  [{\"id\": 2692, \"name\": \"arranged marriage\"}, {\"...                en   \n",
       "\n",
       "         original_title                                           overview  \\\n",
       "158           Star Trek  The fate of the galaxy rests in the hands of b...   \n",
       "2228  An American Carol  In An American Carol a cynical, Anti-American ...   \n",
       "4021         Brick Lane  The grind of daily life as a Brick Lane Bangla...   \n",
       "\n",
       "      popularity                               production_companies  \\\n",
       "158    73.616808  [{\"name\": \"Paramount Pictures\", \"id\": 4}, {\"na...   \n",
       "2228    2.605374          [{\"name\": \"Mpower Pictures\", \"id\": 5294}]   \n",
       "4021    0.262135  [{\"name\": \"Ingenious Film Partners\", \"id\": 289...   \n",
       "\n",
       "                                   production_countries release_date  \\\n",
       "158   [{\"iso_3166_1\": \"DE\", \"name\": \"Germany\"}, {\"is...   2009-05-06   \n",
       "2228  [{\"iso_3166_1\": \"US\", \"name\": \"United States o...   2008-10-03   \n",
       "4021  [{\"iso_3166_1\": \"GB\", \"name\": \"United Kingdom\"...   2007-11-16   \n",
       "\n",
       "        revenue  runtime                          spoken_languages    status  \\\n",
       "158   385680446    127.0  [{\"iso_639_1\": \"en\", \"name\": \"English\"}]  Released   \n",
       "2228    7000000     83.0  [{\"iso_639_1\": \"en\", \"name\": \"English\"}]  Released   \n",
       "4021          0    102.0                                        []  Released   \n",
       "\n",
       "                                       tagline              title  \\\n",
       "158                         The future begins.          Star Trek   \n",
       "2228  Laugh like you're country depends on it.  An American Carol   \n",
       "4021                                       NaN         Brick Lane   \n",
       "\n",
       "      vote_average  vote_count  \n",
       "158            7.4        4518  \n",
       "2228           4.1          20  \n",
       "4021           5.2          15  "
      ]
     },
     "execution_count": 5,
     "metadata": {},
     "output_type": "execute_result"
    }
   ],
   "source": [
    "movies.sample(3)"
   ]
  },
  {
   "cell_type": "code",
   "execution_count": 6,
   "id": "d667334f-2227-47cd-88cd-d5a837bb4635",
   "metadata": {},
   "outputs": [
    {
     "data": {
      "text/plain": [
       "movie_id    0.0\n",
       "title       0.0\n",
       "cast        0.0\n",
       "crew        0.0\n",
       "dtype: float64"
      ]
     },
     "execution_count": 6,
     "metadata": {},
     "output_type": "execute_result"
    }
   ],
   "source": [
    "credits.isnull().mean()*100"
   ]
  },
  {
   "cell_type": "code",
   "execution_count": 7,
   "id": "afb6d283-e020-4339-acd1-47d2b528bfb6",
   "metadata": {},
   "outputs": [
    {
     "data": {
      "text/plain": [
       "budget                   0.000000\n",
       "genres                   0.000000\n",
       "homepage                64.355611\n",
       "id                       0.000000\n",
       "keywords                 0.000000\n",
       "original_language        0.000000\n",
       "original_title           0.000000\n",
       "overview                 0.062461\n",
       "popularity               0.000000\n",
       "production_companies     0.000000\n",
       "production_countries     0.000000\n",
       "release_date             0.020820\n",
       "revenue                  0.000000\n",
       "runtime                  0.041641\n",
       "spoken_languages         0.000000\n",
       "status                   0.000000\n",
       "tagline                 17.572351\n",
       "title                    0.000000\n",
       "vote_average             0.000000\n",
       "vote_count               0.000000\n",
       "dtype: float64"
      ]
     },
     "execution_count": 7,
     "metadata": {},
     "output_type": "execute_result"
    }
   ],
   "source": [
    "movies.isnull().mean()*100"
   ]
  },
  {
   "cell_type": "code",
   "execution_count": 8,
   "id": "e5c40244-4ba5-4531-a8b6-7d52e6cce562",
   "metadata": {},
   "outputs": [
    {
     "data": {
      "text/plain": [
       "0"
      ]
     },
     "execution_count": 8,
     "metadata": {},
     "output_type": "execute_result"
    }
   ],
   "source": [
    "credits.duplicated().sum()"
   ]
  },
  {
   "cell_type": "code",
   "execution_count": 9,
   "id": "229c2bf6-fa5c-4487-8454-f0ae24560d31",
   "metadata": {},
   "outputs": [
    {
     "data": {
      "text/plain": [
       "0"
      ]
     },
     "execution_count": 9,
     "metadata": {},
     "output_type": "execute_result"
    }
   ],
   "source": [
    "movies.duplicated().sum()"
   ]
  },
  {
   "cell_type": "code",
   "execution_count": 10,
   "id": "dfa405ba-6d54-4eff-8a1c-af9f786a815c",
   "metadata": {},
   "outputs": [
    {
     "data": {
      "text/plain": [
       "(4809, 23)"
      ]
     },
     "execution_count": 10,
     "metadata": {},
     "output_type": "execute_result"
    }
   ],
   "source": [
    "movies=movies.merge(credits,on=\"title\")\n",
    "movies.shape"
   ]
  },
  {
   "cell_type": "code",
   "execution_count": 11,
   "id": "6dcb6873-9567-4277-bf39-58a049577079",
   "metadata": {},
   "outputs": [
    {
     "data": {
      "text/html": [
       "<div>\n",
       "<style scoped>\n",
       "    .dataframe tbody tr th:only-of-type {\n",
       "        vertical-align: middle;\n",
       "    }\n",
       "\n",
       "    .dataframe tbody tr th {\n",
       "        vertical-align: top;\n",
       "    }\n",
       "\n",
       "    .dataframe thead th {\n",
       "        text-align: right;\n",
       "    }\n",
       "</style>\n",
       "<table border=\"1\" class=\"dataframe\">\n",
       "  <thead>\n",
       "    <tr style=\"text-align: right;\">\n",
       "      <th></th>\n",
       "      <th>budget</th>\n",
       "      <th>genres</th>\n",
       "      <th>homepage</th>\n",
       "      <th>id</th>\n",
       "      <th>keywords</th>\n",
       "      <th>original_language</th>\n",
       "      <th>original_title</th>\n",
       "      <th>overview</th>\n",
       "      <th>popularity</th>\n",
       "      <th>production_companies</th>\n",
       "      <th>production_countries</th>\n",
       "      <th>release_date</th>\n",
       "      <th>revenue</th>\n",
       "      <th>runtime</th>\n",
       "      <th>spoken_languages</th>\n",
       "      <th>status</th>\n",
       "      <th>tagline</th>\n",
       "      <th>title</th>\n",
       "      <th>vote_average</th>\n",
       "      <th>vote_count</th>\n",
       "      <th>movie_id</th>\n",
       "      <th>cast</th>\n",
       "      <th>crew</th>\n",
       "    </tr>\n",
       "  </thead>\n",
       "  <tbody>\n",
       "    <tr>\n",
       "      <th>0</th>\n",
       "      <td>237000000</td>\n",
       "      <td>[{\"id\": 28, \"name\": \"Action\"}, {\"id\": 12, \"nam...</td>\n",
       "      <td>http://www.avatarmovie.com/</td>\n",
       "      <td>19995</td>\n",
       "      <td>[{\"id\": 1463, \"name\": \"culture clash\"}, {\"id\":...</td>\n",
       "      <td>en</td>\n",
       "      <td>Avatar</td>\n",
       "      <td>In the 22nd century, a paraplegic Marine is di...</td>\n",
       "      <td>150.437577</td>\n",
       "      <td>[{\"name\": \"Ingenious Film Partners\", \"id\": 289...</td>\n",
       "      <td>[{\"iso_3166_1\": \"US\", \"name\": \"United States o...</td>\n",
       "      <td>2009-12-10</td>\n",
       "      <td>2787965087</td>\n",
       "      <td>162.0</td>\n",
       "      <td>[{\"iso_639_1\": \"en\", \"name\": \"English\"}, {\"iso...</td>\n",
       "      <td>Released</td>\n",
       "      <td>Enter the World of Pandora.</td>\n",
       "      <td>Avatar</td>\n",
       "      <td>7.2</td>\n",
       "      <td>11800</td>\n",
       "      <td>19995</td>\n",
       "      <td>[{\"cast_id\": 242, \"character\": \"Jake Sully\", \"...</td>\n",
       "      <td>[{\"credit_id\": \"52fe48009251416c750aca23\", \"de...</td>\n",
       "    </tr>\n",
       "  </tbody>\n",
       "</table>\n",
       "</div>"
      ],
      "text/plain": [
       "      budget                                             genres  \\\n",
       "0  237000000  [{\"id\": 28, \"name\": \"Action\"}, {\"id\": 12, \"nam...   \n",
       "\n",
       "                      homepage     id  \\\n",
       "0  http://www.avatarmovie.com/  19995   \n",
       "\n",
       "                                            keywords original_language  \\\n",
       "0  [{\"id\": 1463, \"name\": \"culture clash\"}, {\"id\":...                en   \n",
       "\n",
       "  original_title                                           overview  \\\n",
       "0         Avatar  In the 22nd century, a paraplegic Marine is di...   \n",
       "\n",
       "   popularity                               production_companies  \\\n",
       "0  150.437577  [{\"name\": \"Ingenious Film Partners\", \"id\": 289...   \n",
       "\n",
       "                                production_countries release_date     revenue  \\\n",
       "0  [{\"iso_3166_1\": \"US\", \"name\": \"United States o...   2009-12-10  2787965087   \n",
       "\n",
       "   runtime                                   spoken_languages    status  \\\n",
       "0    162.0  [{\"iso_639_1\": \"en\", \"name\": \"English\"}, {\"iso...  Released   \n",
       "\n",
       "                       tagline   title  vote_average  vote_count  movie_id  \\\n",
       "0  Enter the World of Pandora.  Avatar           7.2       11800     19995   \n",
       "\n",
       "                                                cast  \\\n",
       "0  [{\"cast_id\": 242, \"character\": \"Jake Sully\", \"...   \n",
       "\n",
       "                                                crew  \n",
       "0  [{\"credit_id\": \"52fe48009251416c750aca23\", \"de...  "
      ]
     },
     "execution_count": 11,
     "metadata": {},
     "output_type": "execute_result"
    }
   ],
   "source": [
    "pd.set_option('display.max_columns', None)\n",
    "movies.head(1)"
   ]
  },
  {
   "cell_type": "markdown",
   "id": "598458ce-4137-4727-b23c-d96507059c31",
   "metadata": {},
   "source": [
    "Since I am focusing on making a content-based reccommendation system not all 23 columns is going to be useful. Thus, my goal is to just extract keywords that can help me reccommend a particular user. The columns that I will be using are: **Genres, id, keywords, overview, title, cast, crew**"
   ]
  },
  {
   "cell_type": "code",
   "execution_count": 12,
   "id": "46f23d0f-ab9b-4cdd-9994-b0a2b4372a10",
   "metadata": {},
   "outputs": [],
   "source": [
    "movies=movies[['genres','id','keywords','overview','cast','crew','title']]"
   ]
  },
  {
   "cell_type": "code",
   "execution_count": 13,
   "id": "d842695e-7599-4d50-bec6-098c67c98c76",
   "metadata": {},
   "outputs": [
    {
     "data": {
      "text/html": [
       "<div>\n",
       "<style scoped>\n",
       "    .dataframe tbody tr th:only-of-type {\n",
       "        vertical-align: middle;\n",
       "    }\n",
       "\n",
       "    .dataframe tbody tr th {\n",
       "        vertical-align: top;\n",
       "    }\n",
       "\n",
       "    .dataframe thead th {\n",
       "        text-align: right;\n",
       "    }\n",
       "</style>\n",
       "<table border=\"1\" class=\"dataframe\">\n",
       "  <thead>\n",
       "    <tr style=\"text-align: right;\">\n",
       "      <th></th>\n",
       "      <th>genres</th>\n",
       "      <th>id</th>\n",
       "      <th>keywords</th>\n",
       "      <th>overview</th>\n",
       "      <th>cast</th>\n",
       "      <th>crew</th>\n",
       "      <th>title</th>\n",
       "    </tr>\n",
       "  </thead>\n",
       "  <tbody>\n",
       "    <tr>\n",
       "      <th>1636</th>\n",
       "      <td>[{\"id\": 53, \"name\": \"Thriller\"}]</td>\n",
       "      <td>8978</td>\n",
       "      <td>[{\"id\": 726, \"name\": \"drug abuse\"}, {\"id\": 166...</td>\n",
       "      <td>On New Year's Eve, inside a police station tha...</td>\n",
       "      <td>[{\"cast_id\": 8, \"character\": \"Sergeant Jake Ro...</td>\n",
       "      <td>[{\"credit_id\": \"5399a25ec3a3681d1b00188f\", \"de...</td>\n",
       "      <td>Assault on Precinct 13</td>\n",
       "    </tr>\n",
       "    <tr>\n",
       "      <th>2046</th>\n",
       "      <td>[{\"id\": 10751, \"name\": \"Family\"}, {\"id\": 27, \"...</td>\n",
       "      <td>24100</td>\n",
       "      <td>[{\"id\": 818, \"name\": \"based on novel\"}, {\"id\":...</td>\n",
       "      <td>Based on the popular books, the story tells of...</td>\n",
       "      <td>[{\"cast_id\": 1, \"character\": \"Frederick Sackvi...</td>\n",
       "      <td>[{\"credit_id\": \"52fe4482c3a368484e0271c7\", \"de...</td>\n",
       "      <td>The Little Vampire</td>\n",
       "    </tr>\n",
       "  </tbody>\n",
       "</table>\n",
       "</div>"
      ],
      "text/plain": [
       "                                                 genres     id  \\\n",
       "1636                   [{\"id\": 53, \"name\": \"Thriller\"}]   8978   \n",
       "2046  [{\"id\": 10751, \"name\": \"Family\"}, {\"id\": 27, \"...  24100   \n",
       "\n",
       "                                               keywords  \\\n",
       "1636  [{\"id\": 726, \"name\": \"drug abuse\"}, {\"id\": 166...   \n",
       "2046  [{\"id\": 818, \"name\": \"based on novel\"}, {\"id\":...   \n",
       "\n",
       "                                               overview  \\\n",
       "1636  On New Year's Eve, inside a police station tha...   \n",
       "2046  Based on the popular books, the story tells of...   \n",
       "\n",
       "                                                   cast  \\\n",
       "1636  [{\"cast_id\": 8, \"character\": \"Sergeant Jake Ro...   \n",
       "2046  [{\"cast_id\": 1, \"character\": \"Frederick Sackvi...   \n",
       "\n",
       "                                                   crew  \\\n",
       "1636  [{\"credit_id\": \"5399a25ec3a3681d1b00188f\", \"de...   \n",
       "2046  [{\"credit_id\": \"52fe4482c3a368484e0271c7\", \"de...   \n",
       "\n",
       "                       title  \n",
       "1636  Assault on Precinct 13  \n",
       "2046      The Little Vampire  "
      ]
     },
     "execution_count": 13,
     "metadata": {},
     "output_type": "execute_result"
    }
   ],
   "source": [
    "movies.sample(2)"
   ]
  },
  {
   "cell_type": "code",
   "execution_count": 14,
   "id": "5832b08d-dffc-4eb5-906b-1d098c0aefc7",
   "metadata": {},
   "outputs": [
    {
     "data": {
      "text/plain": [
       "genres      0.000000\n",
       "id          0.000000\n",
       "keywords    0.000000\n",
       "overview    0.062383\n",
       "cast        0.000000\n",
       "crew        0.000000\n",
       "title       0.000000\n",
       "dtype: float64"
      ]
     },
     "execution_count": 14,
     "metadata": {},
     "output_type": "execute_result"
    }
   ],
   "source": [
    "movies.isnull().mean()*100"
   ]
  },
  {
   "cell_type": "code",
   "execution_count": 15,
   "id": "c489764d-e0c9-49d5-b33d-f98fec9a3eab",
   "metadata": {},
   "outputs": [],
   "source": [
    "movies.dropna(inplace=True)"
   ]
  },
  {
   "cell_type": "markdown",
   "id": "82923f4d-ef2a-4c2f-b648-b762b66c96d8",
   "metadata": {},
   "source": [
    "# Data Preprocessing:"
   ]
  },
  {
   "cell_type": "code",
   "execution_count": 16,
   "id": "6dbb142b-10c6-4ac1-af34-d1e45abcda19",
   "metadata": {},
   "outputs": [
    {
     "data": {
      "text/plain": [
       "'[{\"id\": 28, \"name\": \"Action\"}, {\"id\": 12, \"name\": \"Adventure\"}, {\"id\": 14, \"name\": \"Fantasy\"}, {\"id\": 878, \"name\": \"Science Fiction\"}]'"
      ]
     },
     "execution_count": 16,
     "metadata": {},
     "output_type": "execute_result"
    }
   ],
   "source": [
    "movies.iloc[0].genres"
   ]
  },
  {
   "cell_type": "code",
   "execution_count": 17,
   "id": "77744573-c238-43c2-8f8b-8cc7e2a481b7",
   "metadata": {},
   "outputs": [],
   "source": [
    "import ast\n",
    "def extractName(object):\n",
    "    list=[]\n",
    "    for keys in ast.literal_eval(object):\n",
    "        if \"name\" in keys:\n",
    "            list.append(keys[\"name\"])\n",
    "    return list   "
   ]
  },
  {
   "cell_type": "code",
   "execution_count": 18,
   "id": "32b65af2-f9aa-4567-8d57-8d5d2e5cdbe0",
   "metadata": {},
   "outputs": [],
   "source": [
    "movies.genres=movies.genres.apply(extractName)"
   ]
  },
  {
   "cell_type": "code",
   "execution_count": 19,
   "id": "695d2ee5-0609-4672-a6f5-c50628580e79",
   "metadata": {},
   "outputs": [
    {
     "data": {
      "text/plain": [
       "['Action', 'Adventure', 'Fantasy', 'Science Fiction']"
      ]
     },
     "execution_count": 19,
     "metadata": {},
     "output_type": "execute_result"
    }
   ],
   "source": [
    "movies.iloc[0].genres"
   ]
  },
  {
   "cell_type": "code",
   "execution_count": 20,
   "id": "43bba637-300b-42fa-a22d-eb84b2b7763e",
   "metadata": {},
   "outputs": [
    {
     "data": {
      "text/plain": [
       "'[{\"id\": 1463, \"name\": \"culture clash\"}, {\"id\": 2964, \"name\": \"future\"}, {\"id\": 3386, \"name\": \"space war\"}, {\"id\": 3388, \"name\": \"space colony\"}, {\"id\": 3679, \"name\": \"society\"}, {\"id\": 3801, \"name\": \"space travel\"}, {\"id\": 9685, \"name\": \"futuristic\"}, {\"id\": 9840, \"name\": \"romance\"}, {\"id\": 9882, \"name\": \"space\"}, {\"id\": 9951, \"name\": \"alien\"}, {\"id\": 10148, \"name\": \"tribe\"}, {\"id\": 10158, \"name\": \"alien planet\"}, {\"id\": 10987, \"name\": \"cgi\"}, {\"id\": 11399, \"name\": \"marine\"}, {\"id\": 13065, \"name\": \"soldier\"}, {\"id\": 14643, \"name\": \"battle\"}, {\"id\": 14720, \"name\": \"love affair\"}, {\"id\": 165431, \"name\": \"anti war\"}, {\"id\": 193554, \"name\": \"power relations\"}, {\"id\": 206690, \"name\": \"mind and soul\"}, {\"id\": 209714, \"name\": \"3d\"}]'"
      ]
     },
     "execution_count": 20,
     "metadata": {},
     "output_type": "execute_result"
    }
   ],
   "source": [
    "movies.iloc[0].keywords"
   ]
  },
  {
   "cell_type": "code",
   "execution_count": 21,
   "id": "a169ee93-d4d3-4f7c-9c02-a8db661676f3",
   "metadata": {},
   "outputs": [],
   "source": [
    "movies.keywords=movies.keywords.apply(extractName)"
   ]
  },
  {
   "cell_type": "code",
   "execution_count": 22,
   "id": "03893bd9-98ab-4951-a807-d93902d1ed85",
   "metadata": {},
   "outputs": [],
   "source": [
    "def actor_name(object):\n",
    "    list=[]\n",
    "    count=0\n",
    "    for keys in ast.literal_eval(object):\n",
    "        if count<5:\n",
    "            if \"name\" in keys:\n",
    "                list.append(keys[\"name\"])\n",
    "                count+=1\n",
    "    return list"
   ]
  },
  {
   "cell_type": "code",
   "execution_count": 23,
   "id": "86bcca6c-618b-46cd-91c8-98d95a207f70",
   "metadata": {},
   "outputs": [],
   "source": [
    "movies.cast=movies.cast.apply(actor_name)"
   ]
  },
  {
   "cell_type": "code",
   "execution_count": 24,
   "id": "e3e3ccb5-5f00-4c87-9a38-6f95986972df",
   "metadata": {},
   "outputs": [
    {
     "data": {
      "text/plain": [
       "['Sam Worthington',\n",
       " 'Zoe Saldana',\n",
       " 'Sigourney Weaver',\n",
       " 'Stephen Lang',\n",
       " 'Michelle Rodriguez']"
      ]
     },
     "execution_count": 24,
     "metadata": {},
     "output_type": "execute_result"
    }
   ],
   "source": [
    "movies.iloc[0].cast"
   ]
  },
  {
   "cell_type": "code",
   "execution_count": 25,
   "id": "3b0683ec-be40-4a4b-b788-aad2a5b77b7f",
   "metadata": {},
   "outputs": [],
   "source": [
    "def director(object):\n",
    "    list=[]\n",
    "    for keys in ast.literal_eval(object):\n",
    "        if keys['job']=='Director':\n",
    "            list.append(keys['name'])\n",
    "    return list"
   ]
  },
  {
   "cell_type": "code",
   "execution_count": 26,
   "id": "0d330f8e-e0cf-49a7-b1ed-c28683b7cb46",
   "metadata": {},
   "outputs": [],
   "source": [
    "movies.crew=movies.crew.apply(director)"
   ]
  },
  {
   "cell_type": "code",
   "execution_count": 27,
   "id": "333030ba-7a4f-41d0-9fd6-05e966f68c34",
   "metadata": {},
   "outputs": [
    {
     "data": {
      "text/plain": [
       "['James Cameron']"
      ]
     },
     "execution_count": 27,
     "metadata": {},
     "output_type": "execute_result"
    }
   ],
   "source": [
    "movies.iloc[0].crew"
   ]
  },
  {
   "cell_type": "code",
   "execution_count": 28,
   "id": "6f6bd0a6-ac90-4b0d-8fce-02a2a647b0d3",
   "metadata": {},
   "outputs": [
    {
     "data": {
      "text/html": [
       "<div>\n",
       "<style scoped>\n",
       "    .dataframe tbody tr th:only-of-type {\n",
       "        vertical-align: middle;\n",
       "    }\n",
       "\n",
       "    .dataframe tbody tr th {\n",
       "        vertical-align: top;\n",
       "    }\n",
       "\n",
       "    .dataframe thead th {\n",
       "        text-align: right;\n",
       "    }\n",
       "</style>\n",
       "<table border=\"1\" class=\"dataframe\">\n",
       "  <thead>\n",
       "    <tr style=\"text-align: right;\">\n",
       "      <th></th>\n",
       "      <th>genres</th>\n",
       "      <th>id</th>\n",
       "      <th>keywords</th>\n",
       "      <th>overview</th>\n",
       "      <th>cast</th>\n",
       "      <th>crew</th>\n",
       "      <th>title</th>\n",
       "    </tr>\n",
       "  </thead>\n",
       "  <tbody>\n",
       "    <tr>\n",
       "      <th>0</th>\n",
       "      <td>[Action, Adventure, Fantasy, Science Fiction]</td>\n",
       "      <td>19995</td>\n",
       "      <td>[culture clash, future, space war, space colon...</td>\n",
       "      <td>In the 22nd century, a paraplegic Marine is di...</td>\n",
       "      <td>[Sam Worthington, Zoe Saldana, Sigourney Weave...</td>\n",
       "      <td>[James Cameron]</td>\n",
       "      <td>Avatar</td>\n",
       "    </tr>\n",
       "    <tr>\n",
       "      <th>1</th>\n",
       "      <td>[Adventure, Fantasy, Action]</td>\n",
       "      <td>285</td>\n",
       "      <td>[ocean, drug abuse, exotic island, east india ...</td>\n",
       "      <td>Captain Barbossa, long believed to be dead, ha...</td>\n",
       "      <td>[Johnny Depp, Orlando Bloom, Keira Knightley, ...</td>\n",
       "      <td>[Gore Verbinski]</td>\n",
       "      <td>Pirates of the Caribbean: At World's End</td>\n",
       "    </tr>\n",
       "    <tr>\n",
       "      <th>2</th>\n",
       "      <td>[Action, Adventure, Crime]</td>\n",
       "      <td>206647</td>\n",
       "      <td>[spy, based on novel, secret agent, sequel, mi...</td>\n",
       "      <td>A cryptic message from Bond’s past sends him o...</td>\n",
       "      <td>[Daniel Craig, Christoph Waltz, Léa Seydoux, R...</td>\n",
       "      <td>[Sam Mendes]</td>\n",
       "      <td>Spectre</td>\n",
       "    </tr>\n",
       "    <tr>\n",
       "      <th>3</th>\n",
       "      <td>[Action, Crime, Drama, Thriller]</td>\n",
       "      <td>49026</td>\n",
       "      <td>[dc comics, crime fighter, terrorist, secret i...</td>\n",
       "      <td>Following the death of District Attorney Harve...</td>\n",
       "      <td>[Christian Bale, Michael Caine, Gary Oldman, A...</td>\n",
       "      <td>[Christopher Nolan]</td>\n",
       "      <td>The Dark Knight Rises</td>\n",
       "    </tr>\n",
       "    <tr>\n",
       "      <th>4</th>\n",
       "      <td>[Action, Adventure, Science Fiction]</td>\n",
       "      <td>49529</td>\n",
       "      <td>[based on novel, mars, medallion, space travel...</td>\n",
       "      <td>John Carter is a war-weary, former military ca...</td>\n",
       "      <td>[Taylor Kitsch, Lynn Collins, Samantha Morton,...</td>\n",
       "      <td>[Andrew Stanton]</td>\n",
       "      <td>John Carter</td>\n",
       "    </tr>\n",
       "  </tbody>\n",
       "</table>\n",
       "</div>"
      ],
      "text/plain": [
       "                                          genres      id  \\\n",
       "0  [Action, Adventure, Fantasy, Science Fiction]   19995   \n",
       "1                   [Adventure, Fantasy, Action]     285   \n",
       "2                     [Action, Adventure, Crime]  206647   \n",
       "3               [Action, Crime, Drama, Thriller]   49026   \n",
       "4           [Action, Adventure, Science Fiction]   49529   \n",
       "\n",
       "                                            keywords  \\\n",
       "0  [culture clash, future, space war, space colon...   \n",
       "1  [ocean, drug abuse, exotic island, east india ...   \n",
       "2  [spy, based on novel, secret agent, sequel, mi...   \n",
       "3  [dc comics, crime fighter, terrorist, secret i...   \n",
       "4  [based on novel, mars, medallion, space travel...   \n",
       "\n",
       "                                            overview  \\\n",
       "0  In the 22nd century, a paraplegic Marine is di...   \n",
       "1  Captain Barbossa, long believed to be dead, ha...   \n",
       "2  A cryptic message from Bond’s past sends him o...   \n",
       "3  Following the death of District Attorney Harve...   \n",
       "4  John Carter is a war-weary, former military ca...   \n",
       "\n",
       "                                                cast                 crew  \\\n",
       "0  [Sam Worthington, Zoe Saldana, Sigourney Weave...      [James Cameron]   \n",
       "1  [Johnny Depp, Orlando Bloom, Keira Knightley, ...     [Gore Verbinski]   \n",
       "2  [Daniel Craig, Christoph Waltz, Léa Seydoux, R...         [Sam Mendes]   \n",
       "3  [Christian Bale, Michael Caine, Gary Oldman, A...  [Christopher Nolan]   \n",
       "4  [Taylor Kitsch, Lynn Collins, Samantha Morton,...     [Andrew Stanton]   \n",
       "\n",
       "                                      title  \n",
       "0                                    Avatar  \n",
       "1  Pirates of the Caribbean: At World's End  \n",
       "2                                   Spectre  \n",
       "3                     The Dark Knight Rises  \n",
       "4                               John Carter  "
      ]
     },
     "execution_count": 28,
     "metadata": {},
     "output_type": "execute_result"
    }
   ],
   "source": [
    "movies.head()"
   ]
  },
  {
   "cell_type": "code",
   "execution_count": 29,
   "id": "5cb53d2c-1977-40ce-9a64-7a7d35874fcf",
   "metadata": {},
   "outputs": [],
   "source": [
    "movies.overview=movies.overview.apply(lambda x:x.split())"
   ]
  },
  {
   "cell_type": "code",
   "execution_count": 30,
   "id": "16b473de-a359-4ae8-a635-f9c9aeba1db2",
   "metadata": {},
   "outputs": [],
   "source": [
    "def remove_space(object):\n",
    "    list=[]\n",
    "    for items in object:\n",
    "        list.append(items.replace(\" \",\"\"))\n",
    "    return list"
   ]
  },
  {
   "cell_type": "code",
   "execution_count": 31,
   "id": "aabc9ee3-4ef3-4dbe-a273-42f623321981",
   "metadata": {},
   "outputs": [],
   "source": [
    "movies.cast=movies.cast.apply(remove_space)\n",
    "movies.crew=movies.crew.apply(remove_space)\n",
    "movies.genres=movies.genres.apply(remove_space)\n",
    "movies.keywords=movies.keywords.apply(remove_space)"
   ]
  },
  {
   "cell_type": "code",
   "execution_count": 32,
   "id": "b351490c-4d12-4ac5-8129-e2a7697cd32c",
   "metadata": {},
   "outputs": [
    {
     "data": {
      "text/html": [
       "<div>\n",
       "<style scoped>\n",
       "    .dataframe tbody tr th:only-of-type {\n",
       "        vertical-align: middle;\n",
       "    }\n",
       "\n",
       "    .dataframe tbody tr th {\n",
       "        vertical-align: top;\n",
       "    }\n",
       "\n",
       "    .dataframe thead th {\n",
       "        text-align: right;\n",
       "    }\n",
       "</style>\n",
       "<table border=\"1\" class=\"dataframe\">\n",
       "  <thead>\n",
       "    <tr style=\"text-align: right;\">\n",
       "      <th></th>\n",
       "      <th>genres</th>\n",
       "      <th>id</th>\n",
       "      <th>keywords</th>\n",
       "      <th>overview</th>\n",
       "      <th>cast</th>\n",
       "      <th>crew</th>\n",
       "      <th>title</th>\n",
       "    </tr>\n",
       "  </thead>\n",
       "  <tbody>\n",
       "    <tr>\n",
       "      <th>0</th>\n",
       "      <td>[Action, Adventure, Fantasy, ScienceFiction]</td>\n",
       "      <td>19995</td>\n",
       "      <td>[cultureclash, future, spacewar, spacecolony, ...</td>\n",
       "      <td>[In, the, 22nd, century,, a, paraplegic, Marin...</td>\n",
       "      <td>[SamWorthington, ZoeSaldana, SigourneyWeaver, ...</td>\n",
       "      <td>[JamesCameron]</td>\n",
       "      <td>Avatar</td>\n",
       "    </tr>\n",
       "    <tr>\n",
       "      <th>1</th>\n",
       "      <td>[Adventure, Fantasy, Action]</td>\n",
       "      <td>285</td>\n",
       "      <td>[ocean, drugabuse, exoticisland, eastindiatrad...</td>\n",
       "      <td>[Captain, Barbossa,, long, believed, to, be, d...</td>\n",
       "      <td>[JohnnyDepp, OrlandoBloom, KeiraKnightley, Ste...</td>\n",
       "      <td>[GoreVerbinski]</td>\n",
       "      <td>Pirates of the Caribbean: At World's End</td>\n",
       "    </tr>\n",
       "  </tbody>\n",
       "</table>\n",
       "</div>"
      ],
      "text/plain": [
       "                                         genres     id  \\\n",
       "0  [Action, Adventure, Fantasy, ScienceFiction]  19995   \n",
       "1                  [Adventure, Fantasy, Action]    285   \n",
       "\n",
       "                                            keywords  \\\n",
       "0  [cultureclash, future, spacewar, spacecolony, ...   \n",
       "1  [ocean, drugabuse, exoticisland, eastindiatrad...   \n",
       "\n",
       "                                            overview  \\\n",
       "0  [In, the, 22nd, century,, a, paraplegic, Marin...   \n",
       "1  [Captain, Barbossa,, long, believed, to, be, d...   \n",
       "\n",
       "                                                cast             crew  \\\n",
       "0  [SamWorthington, ZoeSaldana, SigourneyWeaver, ...   [JamesCameron]   \n",
       "1  [JohnnyDepp, OrlandoBloom, KeiraKnightley, Ste...  [GoreVerbinski]   \n",
       "\n",
       "                                      title  \n",
       "0                                    Avatar  \n",
       "1  Pirates of the Caribbean: At World's End  "
      ]
     },
     "execution_count": 32,
     "metadata": {},
     "output_type": "execute_result"
    }
   ],
   "source": [
    "movies.head(2)"
   ]
  },
  {
   "cell_type": "markdown",
   "id": "ea6f9d3b-d373-423b-afca-8c72d00f1776",
   "metadata": {},
   "source": [
    "# EDA:"
   ]
  },
  {
   "cell_type": "code",
   "execution_count": null,
   "id": "c954cbca-a964-4489-924e-ae5ee89333a9",
   "metadata": {},
   "outputs": [],
   "source": []
  }
 ],
 "metadata": {
  "kernelspec": {
   "display_name": "Python 3 (ipykernel)",
   "language": "python",
   "name": "python3"
  },
  "language_info": {
   "codemirror_mode": {
    "name": "ipython",
    "version": 3
   },
   "file_extension": ".py",
   "mimetype": "text/x-python",
   "name": "python",
   "nbconvert_exporter": "python",
   "pygments_lexer": "ipython3",
   "version": "3.12.7"
  }
 },
 "nbformat": 4,
 "nbformat_minor": 5
}
