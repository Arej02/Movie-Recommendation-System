{
 "cells": [
  {
   "cell_type": "code",
   "execution_count": 1,
   "id": "ee85ef67-4368-4013-ad76-33936fbe5625",
   "metadata": {},
   "outputs": [],
   "source": [
    "import pandas as pd\n",
    "import numpy as np\n",
    "import matplotlib.pylab as plt\n",
    "import seaborn as sns"
   ]
  },
  {
   "cell_type": "code",
   "execution_count": 2,
   "id": "2de9acd9-bd81-4481-b3a5-106ac5165d35",
   "metadata": {},
   "outputs": [],
   "source": [
    "credits=pd.read_csv('../dataset/tmdb_5000_credits.csv')\n",
    "movies=pd.read_csv('../dataset/tmdb_5000_movies.csv')"
   ]
  },
  {
   "cell_type": "markdown",
   "id": "803cf97d-5d8c-4b9a-9720-9dd75704877b",
   "metadata": {},
   "source": [
    "# Data Cleaning: \n",
    "1. Credits Dataset:\n",
    "   - The **Cast and Crew feature** is a list that has a dictionary with key-value pair of the numerous characters and crew members respectively in the movie. Since it consists of a lot of characters we can only use the top 5 characters and only the director's name from the crew member since they are the one popularly recognized by audience. (Tideness)\n",
    "3. Movies Dataset:\n",
    "   - **Home Page**: 64% of the values are missing (Completeness)\n",
    "   - **Tagline**: 17% of the values are missing (Completeness)\n",
    "   - The **Genres, Keywords, Production_companines, Production_countries** is also inside a list with key-value pairs (Tideness)"
   ]
  },
  {
   "cell_type": "code",
   "execution_count": 3,
   "id": "0859a529-f4d2-4298-a218-d352b57a4406",
   "metadata": {},
   "outputs": [
    {
     "name": "stdout",
     "output_type": "stream",
     "text": [
      "The shape of the credits dataset is (4803, 4)\n",
      "The shape of the movies dataset is (4803, 20)\n"
     ]
    }
   ],
   "source": [
    "print(f'The shape of the credits dataset is {credits.shape}')\n",
    "print(f'The shape of the movies dataset is {movies.shape}')"
   ]
  },
  {
   "cell_type": "code",
   "execution_count": 4,
   "id": "5afc4a38-283a-4b5d-a768-ab9e67092580",
   "metadata": {},
   "outputs": [
    {
     "data": {
      "text/html": [
       "<div>\n",
       "<style scoped>\n",
       "    .dataframe tbody tr th:only-of-type {\n",
       "        vertical-align: middle;\n",
       "    }\n",
       "\n",
       "    .dataframe tbody tr th {\n",
       "        vertical-align: top;\n",
       "    }\n",
       "\n",
       "    .dataframe thead th {\n",
       "        text-align: right;\n",
       "    }\n",
       "</style>\n",
       "<table border=\"1\" class=\"dataframe\">\n",
       "  <thead>\n",
       "    <tr style=\"text-align: right;\">\n",
       "      <th></th>\n",
       "      <th>movie_id</th>\n",
       "      <th>title</th>\n",
       "      <th>cast</th>\n",
       "      <th>crew</th>\n",
       "    </tr>\n",
       "  </thead>\n",
       "  <tbody>\n",
       "    <tr>\n",
       "      <th>4783</th>\n",
       "      <td>226458</td>\n",
       "      <td>Backmask</td>\n",
       "      <td>[{\"cast_id\": 3, \"character\": \"Father Conway\", ...</td>\n",
       "      <td>[{\"credit_id\": \"554c8351c3a3685e500041f5\", \"de...</td>\n",
       "    </tr>\n",
       "    <tr>\n",
       "      <th>119</th>\n",
       "      <td>272</td>\n",
       "      <td>Batman Begins</td>\n",
       "      <td>[{\"cast_id\": 13, \"character\": \"Bruce Wayne / B...</td>\n",
       "      <td>[{\"credit_id\": \"52fe4230c3a36847f800ac6d\", \"de...</td>\n",
       "    </tr>\n",
       "    <tr>\n",
       "      <th>1787</th>\n",
       "      <td>5902</td>\n",
       "      <td>A Bridge Too Far</td>\n",
       "      <td>[{\"cast_id\": 4, \"character\": \"Lt. Gen. Fredric...</td>\n",
       "      <td>[{\"credit_id\": \"52fe442bc3a36847f8086685\", \"de...</td>\n",
       "    </tr>\n",
       "    <tr>\n",
       "      <th>866</th>\n",
       "      <td>70074</td>\n",
       "      <td>Bullet to the Head</td>\n",
       "      <td>[{\"cast_id\": 4, \"character\": \"James Bonomo\", \"...</td>\n",
       "      <td>[{\"credit_id\": \"52fe47e9c3a368484e0e0019\", \"de...</td>\n",
       "    </tr>\n",
       "    <tr>\n",
       "      <th>2831</th>\n",
       "      <td>13812</td>\n",
       "      <td>Quarantine</td>\n",
       "      <td>[{\"cast_id\": 1, \"character\": \"Angela Vidal\", \"...</td>\n",
       "      <td>[{\"credit_id\": \"5834decbc3a36829d900d7a5\", \"de...</td>\n",
       "    </tr>\n",
       "  </tbody>\n",
       "</table>\n",
       "</div>"
      ],
      "text/plain": [
       "      movie_id               title  \\\n",
       "4783    226458            Backmask   \n",
       "119        272       Batman Begins   \n",
       "1787      5902    A Bridge Too Far   \n",
       "866      70074  Bullet to the Head   \n",
       "2831     13812          Quarantine   \n",
       "\n",
       "                                                   cast  \\\n",
       "4783  [{\"cast_id\": 3, \"character\": \"Father Conway\", ...   \n",
       "119   [{\"cast_id\": 13, \"character\": \"Bruce Wayne / B...   \n",
       "1787  [{\"cast_id\": 4, \"character\": \"Lt. Gen. Fredric...   \n",
       "866   [{\"cast_id\": 4, \"character\": \"James Bonomo\", \"...   \n",
       "2831  [{\"cast_id\": 1, \"character\": \"Angela Vidal\", \"...   \n",
       "\n",
       "                                                   crew  \n",
       "4783  [{\"credit_id\": \"554c8351c3a3685e500041f5\", \"de...  \n",
       "119   [{\"credit_id\": \"52fe4230c3a36847f800ac6d\", \"de...  \n",
       "1787  [{\"credit_id\": \"52fe442bc3a36847f8086685\", \"de...  \n",
       "866   [{\"credit_id\": \"52fe47e9c3a368484e0e0019\", \"de...  \n",
       "2831  [{\"credit_id\": \"5834decbc3a36829d900d7a5\", \"de...  "
      ]
     },
     "execution_count": 4,
     "metadata": {},
     "output_type": "execute_result"
    }
   ],
   "source": [
    "credits.sample(5)"
   ]
  },
  {
   "cell_type": "code",
   "execution_count": 5,
   "id": "87563a20-ac34-4a6b-bd34-566bde255944",
   "metadata": {},
   "outputs": [
    {
     "data": {
      "text/html": [
       "<div>\n",
       "<style scoped>\n",
       "    .dataframe tbody tr th:only-of-type {\n",
       "        vertical-align: middle;\n",
       "    }\n",
       "\n",
       "    .dataframe tbody tr th {\n",
       "        vertical-align: top;\n",
       "    }\n",
       "\n",
       "    .dataframe thead th {\n",
       "        text-align: right;\n",
       "    }\n",
       "</style>\n",
       "<table border=\"1\" class=\"dataframe\">\n",
       "  <thead>\n",
       "    <tr style=\"text-align: right;\">\n",
       "      <th></th>\n",
       "      <th>budget</th>\n",
       "      <th>genres</th>\n",
       "      <th>homepage</th>\n",
       "      <th>id</th>\n",
       "      <th>keywords</th>\n",
       "      <th>original_language</th>\n",
       "      <th>original_title</th>\n",
       "      <th>overview</th>\n",
       "      <th>popularity</th>\n",
       "      <th>production_companies</th>\n",
       "      <th>production_countries</th>\n",
       "      <th>release_date</th>\n",
       "      <th>revenue</th>\n",
       "      <th>runtime</th>\n",
       "      <th>spoken_languages</th>\n",
       "      <th>status</th>\n",
       "      <th>tagline</th>\n",
       "      <th>title</th>\n",
       "      <th>vote_average</th>\n",
       "      <th>vote_count</th>\n",
       "    </tr>\n",
       "  </thead>\n",
       "  <tbody>\n",
       "    <tr>\n",
       "      <th>2405</th>\n",
       "      <td>17000000</td>\n",
       "      <td>[{\"id\": 27, \"name\": \"Horror\"}, {\"id\": 53, \"nam...</td>\n",
       "      <td>NaN</td>\n",
       "      <td>3597</td>\n",
       "      <td>[{\"id\": 1328, \"name\": \"secret\"}, {\"id\": 1936, ...</td>\n",
       "      <td>en</td>\n",
       "      <td>I Know What You Did Last Summer</td>\n",
       "      <td>As they celebrate their high school graduation...</td>\n",
       "      <td>27.654472</td>\n",
       "      <td>[{\"name\": \"Columbia Pictures Corporation\", \"id...</td>\n",
       "      <td>[{\"iso_3166_1\": \"US\", \"name\": \"United States o...</td>\n",
       "      <td>1997-10-17</td>\n",
       "      <td>125586134</td>\n",
       "      <td>100.0</td>\n",
       "      <td>[{\"iso_639_1\": \"en\", \"name\": \"English\"}]</td>\n",
       "      <td>Released</td>\n",
       "      <td>If you're going to bury the truth, make sure i...</td>\n",
       "      <td>I Know What You Did Last Summer</td>\n",
       "      <td>5.6</td>\n",
       "      <td>687</td>\n",
       "    </tr>\n",
       "    <tr>\n",
       "      <th>2781</th>\n",
       "      <td>14350531</td>\n",
       "      <td>[{\"id\": 28, \"name\": \"Action\"}, {\"id\": 35, \"nam...</td>\n",
       "      <td>http://attacktheblock.com/</td>\n",
       "      <td>59678</td>\n",
       "      <td>[{\"id\": 542, \"name\": \"street gang\"}, {\"id\": 24...</td>\n",
       "      <td>en</td>\n",
       "      <td>Attack the Block</td>\n",
       "      <td>A teen gang in a grim South London housing est...</td>\n",
       "      <td>30.952377</td>\n",
       "      <td>[{\"name\": \"UK Film Council\", \"id\": 2452}, {\"na...</td>\n",
       "      <td>[{\"iso_3166_1\": \"GB\", \"name\": \"United Kingdom\"}]</td>\n",
       "      <td>2011-05-12</td>\n",
       "      <td>3964682</td>\n",
       "      <td>88.0</td>\n",
       "      <td>[{\"iso_639_1\": \"en\", \"name\": \"English\"}]</td>\n",
       "      <td>Released</td>\n",
       "      <td>Inner City vs. Outer Space</td>\n",
       "      <td>Attack the Block</td>\n",
       "      <td>6.3</td>\n",
       "      <td>733</td>\n",
       "    </tr>\n",
       "    <tr>\n",
       "      <th>760</th>\n",
       "      <td>60000000</td>\n",
       "      <td>[{\"id\": 35, \"name\": \"Comedy\"}, {\"id\": 80, \"nam...</td>\n",
       "      <td>NaN</td>\n",
       "      <td>9932</td>\n",
       "      <td>[{\"id\": 378, \"name\": \"prison\"}, {\"id\": 1321, \"...</td>\n",
       "      <td>en</td>\n",
       "      <td>Analyze That</td>\n",
       "      <td>The mafia's Paul Vitti is back in prison and w...</td>\n",
       "      <td>21.089520</td>\n",
       "      <td>[{\"name\": \"Village Roadshow Pictures\", \"id\": 7...</td>\n",
       "      <td>[{\"iso_3166_1\": \"AU\", \"name\": \"Australia\"}, {\"...</td>\n",
       "      <td>2002-12-06</td>\n",
       "      <td>55003135</td>\n",
       "      <td>96.0</td>\n",
       "      <td>[{\"iso_639_1\": \"en\", \"name\": \"English\"}]</td>\n",
       "      <td>Released</td>\n",
       "      <td>Back in therapy</td>\n",
       "      <td>Analyze That</td>\n",
       "      <td>5.7</td>\n",
       "      <td>380</td>\n",
       "    </tr>\n",
       "  </tbody>\n",
       "</table>\n",
       "</div>"
      ],
      "text/plain": [
       "        budget                                             genres  \\\n",
       "2405  17000000  [{\"id\": 27, \"name\": \"Horror\"}, {\"id\": 53, \"nam...   \n",
       "2781  14350531  [{\"id\": 28, \"name\": \"Action\"}, {\"id\": 35, \"nam...   \n",
       "760   60000000  [{\"id\": 35, \"name\": \"Comedy\"}, {\"id\": 80, \"nam...   \n",
       "\n",
       "                        homepage     id  \\\n",
       "2405                         NaN   3597   \n",
       "2781  http://attacktheblock.com/  59678   \n",
       "760                          NaN   9932   \n",
       "\n",
       "                                               keywords original_language  \\\n",
       "2405  [{\"id\": 1328, \"name\": \"secret\"}, {\"id\": 1936, ...                en   \n",
       "2781  [{\"id\": 542, \"name\": \"street gang\"}, {\"id\": 24...                en   \n",
       "760   [{\"id\": 378, \"name\": \"prison\"}, {\"id\": 1321, \"...                en   \n",
       "\n",
       "                       original_title  \\\n",
       "2405  I Know What You Did Last Summer   \n",
       "2781                 Attack the Block   \n",
       "760                      Analyze That   \n",
       "\n",
       "                                               overview  popularity  \\\n",
       "2405  As they celebrate their high school graduation...   27.654472   \n",
       "2781  A teen gang in a grim South London housing est...   30.952377   \n",
       "760   The mafia's Paul Vitti is back in prison and w...   21.089520   \n",
       "\n",
       "                                   production_companies  \\\n",
       "2405  [{\"name\": \"Columbia Pictures Corporation\", \"id...   \n",
       "2781  [{\"name\": \"UK Film Council\", \"id\": 2452}, {\"na...   \n",
       "760   [{\"name\": \"Village Roadshow Pictures\", \"id\": 7...   \n",
       "\n",
       "                                   production_countries release_date  \\\n",
       "2405  [{\"iso_3166_1\": \"US\", \"name\": \"United States o...   1997-10-17   \n",
       "2781   [{\"iso_3166_1\": \"GB\", \"name\": \"United Kingdom\"}]   2011-05-12   \n",
       "760   [{\"iso_3166_1\": \"AU\", \"name\": \"Australia\"}, {\"...   2002-12-06   \n",
       "\n",
       "        revenue  runtime                          spoken_languages    status  \\\n",
       "2405  125586134    100.0  [{\"iso_639_1\": \"en\", \"name\": \"English\"}]  Released   \n",
       "2781    3964682     88.0  [{\"iso_639_1\": \"en\", \"name\": \"English\"}]  Released   \n",
       "760    55003135     96.0  [{\"iso_639_1\": \"en\", \"name\": \"English\"}]  Released   \n",
       "\n",
       "                                                tagline  \\\n",
       "2405  If you're going to bury the truth, make sure i...   \n",
       "2781                         Inner City vs. Outer Space   \n",
       "760                                     Back in therapy   \n",
       "\n",
       "                                title  vote_average  vote_count  \n",
       "2405  I Know What You Did Last Summer           5.6         687  \n",
       "2781                 Attack the Block           6.3         733  \n",
       "760                      Analyze That           5.7         380  "
      ]
     },
     "execution_count": 5,
     "metadata": {},
     "output_type": "execute_result"
    }
   ],
   "source": [
    "movies.sample(3)"
   ]
  },
  {
   "cell_type": "code",
   "execution_count": 6,
   "id": "d667334f-2227-47cd-88cd-d5a837bb4635",
   "metadata": {},
   "outputs": [
    {
     "data": {
      "text/plain": [
       "movie_id    0.0\n",
       "title       0.0\n",
       "cast        0.0\n",
       "crew        0.0\n",
       "dtype: float64"
      ]
     },
     "execution_count": 6,
     "metadata": {},
     "output_type": "execute_result"
    }
   ],
   "source": [
    "credits.isnull().mean()*100"
   ]
  },
  {
   "cell_type": "code",
   "execution_count": 7,
   "id": "afb6d283-e020-4339-acd1-47d2b528bfb6",
   "metadata": {},
   "outputs": [
    {
     "data": {
      "text/plain": [
       "budget                   0.000000\n",
       "genres                   0.000000\n",
       "homepage                64.355611\n",
       "id                       0.000000\n",
       "keywords                 0.000000\n",
       "original_language        0.000000\n",
       "original_title           0.000000\n",
       "overview                 0.062461\n",
       "popularity               0.000000\n",
       "production_companies     0.000000\n",
       "production_countries     0.000000\n",
       "release_date             0.020820\n",
       "revenue                  0.000000\n",
       "runtime                  0.041641\n",
       "spoken_languages         0.000000\n",
       "status                   0.000000\n",
       "tagline                 17.572351\n",
       "title                    0.000000\n",
       "vote_average             0.000000\n",
       "vote_count               0.000000\n",
       "dtype: float64"
      ]
     },
     "execution_count": 7,
     "metadata": {},
     "output_type": "execute_result"
    }
   ],
   "source": [
    "movies.isnull().mean()*100"
   ]
  },
  {
   "cell_type": "code",
   "execution_count": 8,
   "id": "e5c40244-4ba5-4531-a8b6-7d52e6cce562",
   "metadata": {},
   "outputs": [
    {
     "data": {
      "text/plain": [
       "0"
      ]
     },
     "execution_count": 8,
     "metadata": {},
     "output_type": "execute_result"
    }
   ],
   "source": [
    "credits.duplicated().sum()"
   ]
  },
  {
   "cell_type": "code",
   "execution_count": 9,
   "id": "229c2bf6-fa5c-4487-8454-f0ae24560d31",
   "metadata": {},
   "outputs": [
    {
     "data": {
      "text/plain": [
       "0"
      ]
     },
     "execution_count": 9,
     "metadata": {},
     "output_type": "execute_result"
    }
   ],
   "source": [
    "movies.duplicated().sum()"
   ]
  },
  {
   "cell_type": "code",
   "execution_count": 10,
   "id": "dfa405ba-6d54-4eff-8a1c-af9f786a815c",
   "metadata": {},
   "outputs": [
    {
     "data": {
      "text/plain": [
       "(4809, 23)"
      ]
     },
     "execution_count": 10,
     "metadata": {},
     "output_type": "execute_result"
    }
   ],
   "source": [
    "movies=movies.merge(credits,on=\"title\")\n",
    "movies.shape"
   ]
  },
  {
   "cell_type": "code",
   "execution_count": 11,
   "id": "6dcb6873-9567-4277-bf39-58a049577079",
   "metadata": {},
   "outputs": [
    {
     "data": {
      "text/html": [
       "<div>\n",
       "<style scoped>\n",
       "    .dataframe tbody tr th:only-of-type {\n",
       "        vertical-align: middle;\n",
       "    }\n",
       "\n",
       "    .dataframe tbody tr th {\n",
       "        vertical-align: top;\n",
       "    }\n",
       "\n",
       "    .dataframe thead th {\n",
       "        text-align: right;\n",
       "    }\n",
       "</style>\n",
       "<table border=\"1\" class=\"dataframe\">\n",
       "  <thead>\n",
       "    <tr style=\"text-align: right;\">\n",
       "      <th></th>\n",
       "      <th>budget</th>\n",
       "      <th>genres</th>\n",
       "      <th>homepage</th>\n",
       "      <th>id</th>\n",
       "      <th>keywords</th>\n",
       "      <th>original_language</th>\n",
       "      <th>original_title</th>\n",
       "      <th>overview</th>\n",
       "      <th>popularity</th>\n",
       "      <th>production_companies</th>\n",
       "      <th>production_countries</th>\n",
       "      <th>release_date</th>\n",
       "      <th>revenue</th>\n",
       "      <th>runtime</th>\n",
       "      <th>spoken_languages</th>\n",
       "      <th>status</th>\n",
       "      <th>tagline</th>\n",
       "      <th>title</th>\n",
       "      <th>vote_average</th>\n",
       "      <th>vote_count</th>\n",
       "      <th>movie_id</th>\n",
       "      <th>cast</th>\n",
       "      <th>crew</th>\n",
       "    </tr>\n",
       "  </thead>\n",
       "  <tbody>\n",
       "    <tr>\n",
       "      <th>0</th>\n",
       "      <td>237000000</td>\n",
       "      <td>[{\"id\": 28, \"name\": \"Action\"}, {\"id\": 12, \"nam...</td>\n",
       "      <td>http://www.avatarmovie.com/</td>\n",
       "      <td>19995</td>\n",
       "      <td>[{\"id\": 1463, \"name\": \"culture clash\"}, {\"id\":...</td>\n",
       "      <td>en</td>\n",
       "      <td>Avatar</td>\n",
       "      <td>In the 22nd century, a paraplegic Marine is di...</td>\n",
       "      <td>150.437577</td>\n",
       "      <td>[{\"name\": \"Ingenious Film Partners\", \"id\": 289...</td>\n",
       "      <td>[{\"iso_3166_1\": \"US\", \"name\": \"United States o...</td>\n",
       "      <td>2009-12-10</td>\n",
       "      <td>2787965087</td>\n",
       "      <td>162.0</td>\n",
       "      <td>[{\"iso_639_1\": \"en\", \"name\": \"English\"}, {\"iso...</td>\n",
       "      <td>Released</td>\n",
       "      <td>Enter the World of Pandora.</td>\n",
       "      <td>Avatar</td>\n",
       "      <td>7.2</td>\n",
       "      <td>11800</td>\n",
       "      <td>19995</td>\n",
       "      <td>[{\"cast_id\": 242, \"character\": \"Jake Sully\", \"...</td>\n",
       "      <td>[{\"credit_id\": \"52fe48009251416c750aca23\", \"de...</td>\n",
       "    </tr>\n",
       "  </tbody>\n",
       "</table>\n",
       "</div>"
      ],
      "text/plain": [
       "      budget                                             genres  \\\n",
       "0  237000000  [{\"id\": 28, \"name\": \"Action\"}, {\"id\": 12, \"nam...   \n",
       "\n",
       "                      homepage     id  \\\n",
       "0  http://www.avatarmovie.com/  19995   \n",
       "\n",
       "                                            keywords original_language  \\\n",
       "0  [{\"id\": 1463, \"name\": \"culture clash\"}, {\"id\":...                en   \n",
       "\n",
       "  original_title                                           overview  \\\n",
       "0         Avatar  In the 22nd century, a paraplegic Marine is di...   \n",
       "\n",
       "   popularity                               production_companies  \\\n",
       "0  150.437577  [{\"name\": \"Ingenious Film Partners\", \"id\": 289...   \n",
       "\n",
       "                                production_countries release_date     revenue  \\\n",
       "0  [{\"iso_3166_1\": \"US\", \"name\": \"United States o...   2009-12-10  2787965087   \n",
       "\n",
       "   runtime                                   spoken_languages    status  \\\n",
       "0    162.0  [{\"iso_639_1\": \"en\", \"name\": \"English\"}, {\"iso...  Released   \n",
       "\n",
       "                       tagline   title  vote_average  vote_count  movie_id  \\\n",
       "0  Enter the World of Pandora.  Avatar           7.2       11800     19995   \n",
       "\n",
       "                                                cast  \\\n",
       "0  [{\"cast_id\": 242, \"character\": \"Jake Sully\", \"...   \n",
       "\n",
       "                                                crew  \n",
       "0  [{\"credit_id\": \"52fe48009251416c750aca23\", \"de...  "
      ]
     },
     "execution_count": 11,
     "metadata": {},
     "output_type": "execute_result"
    }
   ],
   "source": [
    "pd.set_option('display.max_columns', None)\n",
    "movies.head(1)"
   ]
  },
  {
   "cell_type": "markdown",
   "id": "598458ce-4137-4727-b23c-d96507059c31",
   "metadata": {},
   "source": [
    "Since I am focusing on making a content-based reccommendation system not all 23 columns is going to be useful. Thus, my goal is to just extract keywords that can help me reccommend a particular user. The columns that I will be using are: **Genres, id, keywords, overview, title, cast, crew**"
   ]
  },
  {
   "cell_type": "code",
   "execution_count": 12,
   "id": "46f23d0f-ab9b-4cdd-9994-b0a2b4372a10",
   "metadata": {},
   "outputs": [],
   "source": [
    "movies=movies[['genres','id','keywords','overview','cast','crew','title']]"
   ]
  },
  {
   "cell_type": "code",
   "execution_count": 13,
   "id": "d842695e-7599-4d50-bec6-098c67c98c76",
   "metadata": {},
   "outputs": [
    {
     "data": {
      "text/html": [
       "<div>\n",
       "<style scoped>\n",
       "    .dataframe tbody tr th:only-of-type {\n",
       "        vertical-align: middle;\n",
       "    }\n",
       "\n",
       "    .dataframe tbody tr th {\n",
       "        vertical-align: top;\n",
       "    }\n",
       "\n",
       "    .dataframe thead th {\n",
       "        text-align: right;\n",
       "    }\n",
       "</style>\n",
       "<table border=\"1\" class=\"dataframe\">\n",
       "  <thead>\n",
       "    <tr style=\"text-align: right;\">\n",
       "      <th></th>\n",
       "      <th>genres</th>\n",
       "      <th>id</th>\n",
       "      <th>keywords</th>\n",
       "      <th>overview</th>\n",
       "      <th>cast</th>\n",
       "      <th>crew</th>\n",
       "      <th>title</th>\n",
       "    </tr>\n",
       "  </thead>\n",
       "  <tbody>\n",
       "    <tr>\n",
       "      <th>3478</th>\n",
       "      <td>[{\"id\": 35, \"name\": \"Comedy\"}, {\"id\": 37, \"nam...</td>\n",
       "      <td>80304</td>\n",
       "      <td>[{\"id\": 534, \"name\": \"mexico\"}, {\"id\": 10291, ...</td>\n",
       "      <td>Scheming of a way to save their father's ranch...</td>\n",
       "      <td>[{\"cast_id\": 1001, \"character\": \"Armando Alvar...</td>\n",
       "      <td>[{\"credit_id\": \"52fe47b59251416c910732ff\", \"de...</td>\n",
       "      <td>Casa De Mi Padre</td>\n",
       "    </tr>\n",
       "    <tr>\n",
       "      <th>3423</th>\n",
       "      <td>[{\"id\": 80, \"name\": \"Crime\"}, {\"id\": 18, \"name...</td>\n",
       "      <td>650</td>\n",
       "      <td>[{\"id\": 542, \"name\": \"street gang\"}, {\"id\": 57...</td>\n",
       "      <td>Boyz n the Hood is the popular and successful ...</td>\n",
       "      <td>[{\"cast_id\": 14, \"character\": \"Jason 'Furious'...</td>\n",
       "      <td>[{\"credit_id\": \"52fe4264c3a36847f801ae93\", \"de...</td>\n",
       "      <td>Boyz n the Hood</td>\n",
       "    </tr>\n",
       "  </tbody>\n",
       "</table>\n",
       "</div>"
      ],
      "text/plain": [
       "                                                 genres     id  \\\n",
       "3478  [{\"id\": 35, \"name\": \"Comedy\"}, {\"id\": 37, \"nam...  80304   \n",
       "3423  [{\"id\": 80, \"name\": \"Crime\"}, {\"id\": 18, \"name...    650   \n",
       "\n",
       "                                               keywords  \\\n",
       "3478  [{\"id\": 534, \"name\": \"mexico\"}, {\"id\": 10291, ...   \n",
       "3423  [{\"id\": 542, \"name\": \"street gang\"}, {\"id\": 57...   \n",
       "\n",
       "                                               overview  \\\n",
       "3478  Scheming of a way to save their father's ranch...   \n",
       "3423  Boyz n the Hood is the popular and successful ...   \n",
       "\n",
       "                                                   cast  \\\n",
       "3478  [{\"cast_id\": 1001, \"character\": \"Armando Alvar...   \n",
       "3423  [{\"cast_id\": 14, \"character\": \"Jason 'Furious'...   \n",
       "\n",
       "                                                   crew             title  \n",
       "3478  [{\"credit_id\": \"52fe47b59251416c910732ff\", \"de...  Casa De Mi Padre  \n",
       "3423  [{\"credit_id\": \"52fe4264c3a36847f801ae93\", \"de...   Boyz n the Hood  "
      ]
     },
     "execution_count": 13,
     "metadata": {},
     "output_type": "execute_result"
    }
   ],
   "source": [
    "movies.sample(2)"
   ]
  },
  {
   "cell_type": "code",
   "execution_count": 14,
   "id": "5832b08d-dffc-4eb5-906b-1d098c0aefc7",
   "metadata": {},
   "outputs": [
    {
     "data": {
      "text/plain": [
       "genres      0.000000\n",
       "id          0.000000\n",
       "keywords    0.000000\n",
       "overview    0.062383\n",
       "cast        0.000000\n",
       "crew        0.000000\n",
       "title       0.000000\n",
       "dtype: float64"
      ]
     },
     "execution_count": 14,
     "metadata": {},
     "output_type": "execute_result"
    }
   ],
   "source": [
    "movies.isnull().mean()*100"
   ]
  },
  {
   "cell_type": "code",
   "execution_count": 15,
   "id": "c489764d-e0c9-49d5-b33d-f98fec9a3eab",
   "metadata": {},
   "outputs": [],
   "source": [
    "movies.dropna(inplace=True)"
   ]
  },
  {
   "cell_type": "markdown",
   "id": "82923f4d-ef2a-4c2f-b648-b762b66c96d8",
   "metadata": {},
   "source": [
    "# Data Preprocessing:"
   ]
  },
  {
   "cell_type": "code",
   "execution_count": 16,
   "id": "6dbb142b-10c6-4ac1-af34-d1e45abcda19",
   "metadata": {},
   "outputs": [
    {
     "data": {
      "text/plain": [
       "'[{\"id\": 28, \"name\": \"Action\"}, {\"id\": 12, \"name\": \"Adventure\"}, {\"id\": 14, \"name\": \"Fantasy\"}, {\"id\": 878, \"name\": \"Science Fiction\"}]'"
      ]
     },
     "execution_count": 16,
     "metadata": {},
     "output_type": "execute_result"
    }
   ],
   "source": [
    "movies.iloc[0].genres"
   ]
  },
  {
   "cell_type": "code",
   "execution_count": 17,
   "id": "77744573-c238-43c2-8f8b-8cc7e2a481b7",
   "metadata": {},
   "outputs": [],
   "source": [
    "import ast\n",
    "def extractName(object):\n",
    "    list=[]\n",
    "    for keys in ast.literal_eval(object):\n",
    "        if \"name\" in keys:\n",
    "            list.append(keys[\"name\"])\n",
    "    return list   "
   ]
  },
  {
   "cell_type": "code",
   "execution_count": 18,
   "id": "32b65af2-f9aa-4567-8d57-8d5d2e5cdbe0",
   "metadata": {},
   "outputs": [],
   "source": [
    "movies.genres=movies.genres.apply(extractName)"
   ]
  },
  {
   "cell_type": "code",
   "execution_count": 19,
   "id": "695d2ee5-0609-4672-a6f5-c50628580e79",
   "metadata": {},
   "outputs": [
    {
     "data": {
      "text/plain": [
       "['Action', 'Adventure', 'Fantasy', 'Science Fiction']"
      ]
     },
     "execution_count": 19,
     "metadata": {},
     "output_type": "execute_result"
    }
   ],
   "source": [
    "movies.iloc[0].genres"
   ]
  },
  {
   "cell_type": "code",
   "execution_count": 20,
   "id": "43bba637-300b-42fa-a22d-eb84b2b7763e",
   "metadata": {},
   "outputs": [
    {
     "data": {
      "text/plain": [
       "'[{\"id\": 1463, \"name\": \"culture clash\"}, {\"id\": 2964, \"name\": \"future\"}, {\"id\": 3386, \"name\": \"space war\"}, {\"id\": 3388, \"name\": \"space colony\"}, {\"id\": 3679, \"name\": \"society\"}, {\"id\": 3801, \"name\": \"space travel\"}, {\"id\": 9685, \"name\": \"futuristic\"}, {\"id\": 9840, \"name\": \"romance\"}, {\"id\": 9882, \"name\": \"space\"}, {\"id\": 9951, \"name\": \"alien\"}, {\"id\": 10148, \"name\": \"tribe\"}, {\"id\": 10158, \"name\": \"alien planet\"}, {\"id\": 10987, \"name\": \"cgi\"}, {\"id\": 11399, \"name\": \"marine\"}, {\"id\": 13065, \"name\": \"soldier\"}, {\"id\": 14643, \"name\": \"battle\"}, {\"id\": 14720, \"name\": \"love affair\"}, {\"id\": 165431, \"name\": \"anti war\"}, {\"id\": 193554, \"name\": \"power relations\"}, {\"id\": 206690, \"name\": \"mind and soul\"}, {\"id\": 209714, \"name\": \"3d\"}]'"
      ]
     },
     "execution_count": 20,
     "metadata": {},
     "output_type": "execute_result"
    }
   ],
   "source": [
    "movies.iloc[0].keywords"
   ]
  },
  {
   "cell_type": "code",
   "execution_count": 21,
   "id": "a169ee93-d4d3-4f7c-9c02-a8db661676f3",
   "metadata": {},
   "outputs": [],
   "source": [
    "movies.keywords=movies.keywords.apply(extractName)"
   ]
  },
  {
   "cell_type": "code",
   "execution_count": 22,
   "id": "03893bd9-98ab-4951-a807-d93902d1ed85",
   "metadata": {},
   "outputs": [],
   "source": [
    "def actor_name(object):\n",
    "    list=[]\n",
    "    count=0\n",
    "    for keys in ast.literal_eval(object):\n",
    "        if count<5:\n",
    "            if \"name\" in keys:\n",
    "                list.append(keys[\"name\"])\n",
    "                count+=1\n",
    "    return list"
   ]
  },
  {
   "cell_type": "code",
   "execution_count": 23,
   "id": "86bcca6c-618b-46cd-91c8-98d95a207f70",
   "metadata": {},
   "outputs": [],
   "source": [
    "movies.cast=movies.cast.apply(actor_name)"
   ]
  },
  {
   "cell_type": "code",
   "execution_count": 24,
   "id": "e3e3ccb5-5f00-4c87-9a38-6f95986972df",
   "metadata": {},
   "outputs": [
    {
     "data": {
      "text/plain": [
       "['Sam Worthington',\n",
       " 'Zoe Saldana',\n",
       " 'Sigourney Weaver',\n",
       " 'Stephen Lang',\n",
       " 'Michelle Rodriguez']"
      ]
     },
     "execution_count": 24,
     "metadata": {},
     "output_type": "execute_result"
    }
   ],
   "source": [
    "movies.iloc[0].cast"
   ]
  },
  {
   "cell_type": "code",
   "execution_count": 25,
   "id": "3b0683ec-be40-4a4b-b788-aad2a5b77b7f",
   "metadata": {},
   "outputs": [],
   "source": [
    "def director(object):\n",
    "    list=[]\n",
    "    for keys in ast.literal_eval(object):\n",
    "        if keys['job']=='Director':\n",
    "            list.append(keys['name'])\n",
    "    return list"
   ]
  },
  {
   "cell_type": "code",
   "execution_count": 26,
   "id": "0d330f8e-e0cf-49a7-b1ed-c28683b7cb46",
   "metadata": {},
   "outputs": [],
   "source": [
    "movies.crew=movies.crew.apply(director)"
   ]
  },
  {
   "cell_type": "code",
   "execution_count": 27,
   "id": "333030ba-7a4f-41d0-9fd6-05e966f68c34",
   "metadata": {},
   "outputs": [
    {
     "data": {
      "text/plain": [
       "['James Cameron']"
      ]
     },
     "execution_count": 27,
     "metadata": {},
     "output_type": "execute_result"
    }
   ],
   "source": [
    "movies.iloc[0].crew"
   ]
  },
  {
   "cell_type": "code",
   "execution_count": 28,
   "id": "6f6bd0a6-ac90-4b0d-8fce-02a2a647b0d3",
   "metadata": {},
   "outputs": [
    {
     "data": {
      "text/html": [
       "<div>\n",
       "<style scoped>\n",
       "    .dataframe tbody tr th:only-of-type {\n",
       "        vertical-align: middle;\n",
       "    }\n",
       "\n",
       "    .dataframe tbody tr th {\n",
       "        vertical-align: top;\n",
       "    }\n",
       "\n",
       "    .dataframe thead th {\n",
       "        text-align: right;\n",
       "    }\n",
       "</style>\n",
       "<table border=\"1\" class=\"dataframe\">\n",
       "  <thead>\n",
       "    <tr style=\"text-align: right;\">\n",
       "      <th></th>\n",
       "      <th>genres</th>\n",
       "      <th>id</th>\n",
       "      <th>keywords</th>\n",
       "      <th>overview</th>\n",
       "      <th>cast</th>\n",
       "      <th>crew</th>\n",
       "      <th>title</th>\n",
       "    </tr>\n",
       "  </thead>\n",
       "  <tbody>\n",
       "    <tr>\n",
       "      <th>0</th>\n",
       "      <td>[Action, Adventure, Fantasy, Science Fiction]</td>\n",
       "      <td>19995</td>\n",
       "      <td>[culture clash, future, space war, space colon...</td>\n",
       "      <td>In the 22nd century, a paraplegic Marine is di...</td>\n",
       "      <td>[Sam Worthington, Zoe Saldana, Sigourney Weave...</td>\n",
       "      <td>[James Cameron]</td>\n",
       "      <td>Avatar</td>\n",
       "    </tr>\n",
       "    <tr>\n",
       "      <th>1</th>\n",
       "      <td>[Adventure, Fantasy, Action]</td>\n",
       "      <td>285</td>\n",
       "      <td>[ocean, drug abuse, exotic island, east india ...</td>\n",
       "      <td>Captain Barbossa, long believed to be dead, ha...</td>\n",
       "      <td>[Johnny Depp, Orlando Bloom, Keira Knightley, ...</td>\n",
       "      <td>[Gore Verbinski]</td>\n",
       "      <td>Pirates of the Caribbean: At World's End</td>\n",
       "    </tr>\n",
       "    <tr>\n",
       "      <th>2</th>\n",
       "      <td>[Action, Adventure, Crime]</td>\n",
       "      <td>206647</td>\n",
       "      <td>[spy, based on novel, secret agent, sequel, mi...</td>\n",
       "      <td>A cryptic message from Bond’s past sends him o...</td>\n",
       "      <td>[Daniel Craig, Christoph Waltz, Léa Seydoux, R...</td>\n",
       "      <td>[Sam Mendes]</td>\n",
       "      <td>Spectre</td>\n",
       "    </tr>\n",
       "    <tr>\n",
       "      <th>3</th>\n",
       "      <td>[Action, Crime, Drama, Thriller]</td>\n",
       "      <td>49026</td>\n",
       "      <td>[dc comics, crime fighter, terrorist, secret i...</td>\n",
       "      <td>Following the death of District Attorney Harve...</td>\n",
       "      <td>[Christian Bale, Michael Caine, Gary Oldman, A...</td>\n",
       "      <td>[Christopher Nolan]</td>\n",
       "      <td>The Dark Knight Rises</td>\n",
       "    </tr>\n",
       "    <tr>\n",
       "      <th>4</th>\n",
       "      <td>[Action, Adventure, Science Fiction]</td>\n",
       "      <td>49529</td>\n",
       "      <td>[based on novel, mars, medallion, space travel...</td>\n",
       "      <td>John Carter is a war-weary, former military ca...</td>\n",
       "      <td>[Taylor Kitsch, Lynn Collins, Samantha Morton,...</td>\n",
       "      <td>[Andrew Stanton]</td>\n",
       "      <td>John Carter</td>\n",
       "    </tr>\n",
       "  </tbody>\n",
       "</table>\n",
       "</div>"
      ],
      "text/plain": [
       "                                          genres      id  \\\n",
       "0  [Action, Adventure, Fantasy, Science Fiction]   19995   \n",
       "1                   [Adventure, Fantasy, Action]     285   \n",
       "2                     [Action, Adventure, Crime]  206647   \n",
       "3               [Action, Crime, Drama, Thriller]   49026   \n",
       "4           [Action, Adventure, Science Fiction]   49529   \n",
       "\n",
       "                                            keywords  \\\n",
       "0  [culture clash, future, space war, space colon...   \n",
       "1  [ocean, drug abuse, exotic island, east india ...   \n",
       "2  [spy, based on novel, secret agent, sequel, mi...   \n",
       "3  [dc comics, crime fighter, terrorist, secret i...   \n",
       "4  [based on novel, mars, medallion, space travel...   \n",
       "\n",
       "                                            overview  \\\n",
       "0  In the 22nd century, a paraplegic Marine is di...   \n",
       "1  Captain Barbossa, long believed to be dead, ha...   \n",
       "2  A cryptic message from Bond’s past sends him o...   \n",
       "3  Following the death of District Attorney Harve...   \n",
       "4  John Carter is a war-weary, former military ca...   \n",
       "\n",
       "                                                cast                 crew  \\\n",
       "0  [Sam Worthington, Zoe Saldana, Sigourney Weave...      [James Cameron]   \n",
       "1  [Johnny Depp, Orlando Bloom, Keira Knightley, ...     [Gore Verbinski]   \n",
       "2  [Daniel Craig, Christoph Waltz, Léa Seydoux, R...         [Sam Mendes]   \n",
       "3  [Christian Bale, Michael Caine, Gary Oldman, A...  [Christopher Nolan]   \n",
       "4  [Taylor Kitsch, Lynn Collins, Samantha Morton,...     [Andrew Stanton]   \n",
       "\n",
       "                                      title  \n",
       "0                                    Avatar  \n",
       "1  Pirates of the Caribbean: At World's End  \n",
       "2                                   Spectre  \n",
       "3                     The Dark Knight Rises  \n",
       "4                               John Carter  "
      ]
     },
     "execution_count": 28,
     "metadata": {},
     "output_type": "execute_result"
    }
   ],
   "source": [
    "movies.head()"
   ]
  },
  {
   "cell_type": "code",
   "execution_count": 29,
   "id": "5cb53d2c-1977-40ce-9a64-7a7d35874fcf",
   "metadata": {},
   "outputs": [],
   "source": [
    "movies.overview=movies.overview.apply(lambda x:x.split())"
   ]
  },
  {
   "cell_type": "code",
   "execution_count": 30,
   "id": "16b473de-a359-4ae8-a635-f9c9aeba1db2",
   "metadata": {},
   "outputs": [],
   "source": [
    "def remove_space(object):\n",
    "    list=[]\n",
    "    for items in object:\n",
    "        list.append(items.replace(\" \",\"\"))\n",
    "    return list"
   ]
  },
  {
   "cell_type": "code",
   "execution_count": 31,
   "id": "aabc9ee3-4ef3-4dbe-a273-42f623321981",
   "metadata": {},
   "outputs": [],
   "source": [
    "movies.cast=movies.cast.apply(remove_space)\n",
    "movies.crew=movies.crew.apply(remove_space)\n",
    "movies.genres=movies.genres.apply(remove_space)\n",
    "movies.keywords=movies.keywords.apply(remove_space)"
   ]
  },
  {
   "cell_type": "code",
   "execution_count": 32,
   "id": "b351490c-4d12-4ac5-8129-e2a7697cd32c",
   "metadata": {},
   "outputs": [
    {
     "data": {
      "text/html": [
       "<div>\n",
       "<style scoped>\n",
       "    .dataframe tbody tr th:only-of-type {\n",
       "        vertical-align: middle;\n",
       "    }\n",
       "\n",
       "    .dataframe tbody tr th {\n",
       "        vertical-align: top;\n",
       "    }\n",
       "\n",
       "    .dataframe thead th {\n",
       "        text-align: right;\n",
       "    }\n",
       "</style>\n",
       "<table border=\"1\" class=\"dataframe\">\n",
       "  <thead>\n",
       "    <tr style=\"text-align: right;\">\n",
       "      <th></th>\n",
       "      <th>genres</th>\n",
       "      <th>id</th>\n",
       "      <th>keywords</th>\n",
       "      <th>overview</th>\n",
       "      <th>cast</th>\n",
       "      <th>crew</th>\n",
       "      <th>title</th>\n",
       "    </tr>\n",
       "  </thead>\n",
       "  <tbody>\n",
       "    <tr>\n",
       "      <th>0</th>\n",
       "      <td>[Action, Adventure, Fantasy, ScienceFiction]</td>\n",
       "      <td>19995</td>\n",
       "      <td>[cultureclash, future, spacewar, spacecolony, ...</td>\n",
       "      <td>[In, the, 22nd, century,, a, paraplegic, Marin...</td>\n",
       "      <td>[SamWorthington, ZoeSaldana, SigourneyWeaver, ...</td>\n",
       "      <td>[JamesCameron]</td>\n",
       "      <td>Avatar</td>\n",
       "    </tr>\n",
       "    <tr>\n",
       "      <th>1</th>\n",
       "      <td>[Adventure, Fantasy, Action]</td>\n",
       "      <td>285</td>\n",
       "      <td>[ocean, drugabuse, exoticisland, eastindiatrad...</td>\n",
       "      <td>[Captain, Barbossa,, long, believed, to, be, d...</td>\n",
       "      <td>[JohnnyDepp, OrlandoBloom, KeiraKnightley, Ste...</td>\n",
       "      <td>[GoreVerbinski]</td>\n",
       "      <td>Pirates of the Caribbean: At World's End</td>\n",
       "    </tr>\n",
       "  </tbody>\n",
       "</table>\n",
       "</div>"
      ],
      "text/plain": [
       "                                         genres     id  \\\n",
       "0  [Action, Adventure, Fantasy, ScienceFiction]  19995   \n",
       "1                  [Adventure, Fantasy, Action]    285   \n",
       "\n",
       "                                            keywords  \\\n",
       "0  [cultureclash, future, spacewar, spacecolony, ...   \n",
       "1  [ocean, drugabuse, exoticisland, eastindiatrad...   \n",
       "\n",
       "                                            overview  \\\n",
       "0  [In, the, 22nd, century,, a, paraplegic, Marin...   \n",
       "1  [Captain, Barbossa,, long, believed, to, be, d...   \n",
       "\n",
       "                                                cast             crew  \\\n",
       "0  [SamWorthington, ZoeSaldana, SigourneyWeaver, ...   [JamesCameron]   \n",
       "1  [JohnnyDepp, OrlandoBloom, KeiraKnightley, Ste...  [GoreVerbinski]   \n",
       "\n",
       "                                      title  \n",
       "0                                    Avatar  \n",
       "1  Pirates of the Caribbean: At World's End  "
      ]
     },
     "execution_count": 32,
     "metadata": {},
     "output_type": "execute_result"
    }
   ],
   "source": [
    "movies.head(2)"
   ]
  },
  {
   "cell_type": "markdown",
   "id": "ea6f9d3b-d373-423b-afca-8c72d00f1776",
   "metadata": {},
   "source": [
    "# EDA:"
   ]
  },
  {
   "cell_type": "code",
   "execution_count": 33,
   "id": "ee3d883f-457d-4c4e-9aab-3b948287445e",
   "metadata": {},
   "outputs": [],
   "source": [
    "from wordcloud import WordCloud\n",
    "wc=WordCloud(width=500, height=500, min_font_size=10, background_color='black')"
   ]
  },
  {
   "cell_type": "code",
   "execution_count": 36,
   "id": "922893bb-c91f-47cc-9a7a-3852e682d0d4",
   "metadata": {},
   "outputs": [
    {
     "name": "stdout",
     "output_type": "stream",
     "text": [
      "object\n"
     ]
    }
   ],
   "source": [
    "print(movies['genres'].dtype)"
   ]
  },
  {
   "cell_type": "code",
   "execution_count": 38,
   "id": "283c380b-4a7a-46a6-8ee6-7059cb46d81b",
   "metadata": {},
   "outputs": [],
   "source": [
    "genres_string = movies.genres.apply(lambda x: \" \".join(x))"
   ]
  },
  {
   "cell_type": "code",
   "execution_count": 39,
   "id": "cca4021a-6dd4-4a9d-9fcd-f9cfe1da116c",
   "metadata": {},
   "outputs": [
    {
     "data": {
      "text/plain": [
       "0       Action Adventure Fantasy ScienceFiction\n",
       "1                      Adventure Fantasy Action\n",
       "2                        Action Adventure Crime\n",
       "3                   Action Crime Drama Thriller\n",
       "4               Action Adventure ScienceFiction\n",
       "                         ...                   \n",
       "4804                      Action Crime Thriller\n",
       "4805                             Comedy Romance\n",
       "4806               Comedy Drama Romance TVMovie\n",
       "4807                                           \n",
       "4808                                Documentary\n",
       "Name: genres, Length: 4806, dtype: object"
      ]
     },
     "execution_count": 39,
     "metadata": {},
     "output_type": "execute_result"
    }
   ],
   "source": [
    "ham_words=df1[df1.Type==0]['Transformed_Text'].str.cat(sep=\" \")"
   ]
  },
  {
   "cell_type": "code",
   "execution_count": null,
   "id": "c954cbca-a964-4489-924e-ae5ee89333a9",
   "metadata": {},
   "outputs": [],
   "source": []
  }
 ],
 "metadata": {
  "kernelspec": {
   "display_name": "Python 3 (ipykernel)",
   "language": "python",
   "name": "python3"
  },
  "language_info": {
   "codemirror_mode": {
    "name": "ipython",
    "version": 3
   },
   "file_extension": ".py",
   "mimetype": "text/x-python",
   "name": "python",
   "nbconvert_exporter": "python",
   "pygments_lexer": "ipython3",
   "version": "3.12.7"
  }
 },
 "nbformat": 4,
 "nbformat_minor": 5
}
