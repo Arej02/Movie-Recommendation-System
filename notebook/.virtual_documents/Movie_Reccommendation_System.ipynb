import pandas as pd
import numpy as np
import matplotlib.pylab as plt
import seaborn as sns


credits=pd.read_csv('../dataset/tmdb_5000_credits.csv')
movies=pd.read_csv('../dataset/tmdb_5000_movies.csv')





print(f'The shape of the credits dataset is {credits.shape}')
print(f'The shape of the movies dataset is {movies.shape}')


credits.sample(5)


movies.sample(3)


credits.isnull().mean()*100


movies.isnull().mean()*100


credits.duplicated().sum()


movies.duplicated().sum()


movies=movies.merge(credits,on="title")
movies.shape


pd.set_option('display.max_columns', None)
movies.head(1)





movies=movies[['genres','id','keywords','overview','cast','crew','title']]


movies.sample(2)


movies.isnull().mean()*100


movies.dropna(inplace=True)





movies.iloc[0].genres


import ast
def extractName(object):
    list=[]
    for keys in ast.literal_eval(object):
        if "name" in keys:
            list.append(keys["name"])
    return list   


movies.genres=movies.genres.apply(extractName)


movies.iloc[0].genres


movies.iloc[0].keywords


movies.keywords=movies.keywords.apply(extractName)


def actor_name(object):
    list=[]
    count=0
    for keys in ast.literal_eval(object):
        if count<5:
            if "name" in keys:
                list.append(keys["name"])
                count+=1
    return list


movies.cast=movies.cast.apply(actor_name)


movies.iloc[0].cast


def director(object):
    list=[]
    for keys in ast.literal_eval(object):
        if keys['job']=='Director':
            list.append(keys['name'])
    return list


movies.crew=movies.crew.apply(director)


movies.iloc[0].crew


movies.head()


movies.overview=movies.overview.apply(lambda x:x.split())


def remove_space(object):
    list=[]
    for items in object:
        list.append(items.replace(" ",""))
    return list


movies.cast=movies.cast.apply(remove_space)
movies.crew=movies.crew.apply(remove_space)
movies.genres=movies.genres.apply(remove_space)
movies.keywords=movies.keywords.apply(remove_space)


movies.head(2)





movies.info()


from collections import Counter
import itertools


all_genres=list(itertools.chain.from_iterable(movies.genres))
genre_counts=Counter(all_genres)


plt.bar(genre_counts.keys(),genre_counts.values(),color='red')
plt.xticks(rotation=90)
plt.title('Genres Distribution')
plt.show()





all_cast=list(itertools.chain.from_iterable(movies.cast))
cast_counts=Counter(all_cast)
print(cast_counts.most_common(10))


top_ten_actors=cast_counts.most_common(10)
names=[cast[0] for cast in top_ten_actors]
counts=[cast[1] for cast in top_ten_actors]

sns.barplot(x=counts,y=names)
plt.title('Top 10 most frequent actors')
plt.show()





from wordcloud import WordCloud


all_overviews= ' '.join([' '.join(overview) for overview in movies['overview']])


wordcloud = WordCloud(width=800, height=400).generate(all_overviews)
plt.figure(figsize=(12,8))
plt.imshow(wordcloud, interpolation='bilinear')
plt.axis('off')
plt.show()





movies['tags']=movies['overview']+movies['genres']+movies['keywords']+movies['cast']+movies['crew']


new_movies=movies[['id','title','tags']]


new_movies.tags=new_movies.tags.apply(lambda x:" ".join(x)) #Converting the list tag to strings


new_movies.tags=new_movies.tags.apply(lambda x:x.lower()) #Lowercasing all the letters in the tags


new_movies.sample(3)



